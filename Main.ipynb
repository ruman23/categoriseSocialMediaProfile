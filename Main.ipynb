{
  "nbformat": 4,
  "nbformat_minor": 0,
  "metadata": {
    "kernelspec": {
      "display_name": "env_tensorflow",
      "language": "python",
      "name": "env_tensorflow"
    },
    "language_info": {
      "codemirror_mode": {
        "name": "ipython",
        "version": 3
      },
      "file_extension": ".py",
      "mimetype": "text/x-python",
      "name": "python",
      "nbconvert_exporter": "python",
      "pygments_lexer": "ipython3",
      "version": "3.9.7"
    },
    "colab": {
      "name": "Main.ipynb",
      "provenance": [],
      "collapsed_sections": [],
      "include_colab_link": true
    },
    "accelerator": "TPU"
  },
  "cells": [
    {
      "cell_type": "markdown",
      "metadata": {
        "id": "view-in-github",
        "colab_type": "text"
      },
      "source": [
        "<a href=\"https://colab.research.google.com/github/ruman23/categoriseSocialMediaProfile/blob/main/Main.ipynb\" target=\"_parent\"><img src=\"https://colab.research.google.com/assets/colab-badge.svg\" alt=\"Open In Colab\"/></a>"
      ]
    },
    {
      "cell_type": "markdown",
      "metadata": {
        "id": "SMjbRJS_rtsT"
      },
      "source": [
        "## Import Library"
      ]
    },
    {
      "cell_type": "code",
      "metadata": {
        "id": "HDUpzckwqGOY"
      },
      "source": [
        "import pandas as pd\n",
        "import numpy as np\n",
        "import matplotlib.pyplot as plt\n",
        "from sklearn.feature_extraction.text import CountVectorizer\n",
        "from sklearn.linear_model import LogisticRegression\n",
        "from sklearn.naive_bayes import MultinomialNB\n",
        "from sklearn.metrics import accuracy_score, confusion_matrix\n",
        "from sklearn.utils import shuffle\n",
        "\n",
        "%matplotlib inline"
      ],
      "execution_count": 12,
      "outputs": []
    },
    {
      "cell_type": "markdown",
      "metadata": {
        "id": "8cmsIDvesSRH"
      },
      "source": [
        "## Create Class for Posts"
      ]
    },
    {
      "cell_type": "code",
      "metadata": {
        "colab": {
          "base_uri": "https://localhost:8080/",
          "height": 204
        },
        "id": "_v8XjwnBqGOZ",
        "outputId": "a20f74da-0ef9-46f9-8bae-1753bb10e571"
      },
      "source": [
        "'''\n",
        "sport=0\n",
        "religious=1\n",
        "travel=2\n",
        "extremism=3\n",
        "political=4\n",
        "as usual=5\n",
        "'''\n",
        "clmn = ['sport', 'religious', 'travel', 'extremism', 'political', 'as usual']\n",
        "\n",
        "data = pd.read_csv('Data.csv')\n",
        "data.status.fillna('...', inplace = True)\n",
        "data.head()"
      ],
      "execution_count": 13,
      "outputs": [
        {
          "output_type": "execute_result",
          "data": {
            "text/html": [
              "<div>\n",
              "<style scoped>\n",
              "    .dataframe tbody tr th:only-of-type {\n",
              "        vertical-align: middle;\n",
              "    }\n",
              "\n",
              "    .dataframe tbody tr th {\n",
              "        vertical-align: top;\n",
              "    }\n",
              "\n",
              "    .dataframe thead th {\n",
              "        text-align: right;\n",
              "    }\n",
              "</style>\n",
              "<table border=\"1\" class=\"dataframe\">\n",
              "  <thead>\n",
              "    <tr style=\"text-align: right;\">\n",
              "      <th></th>\n",
              "      <th>status</th>\n",
              "      <th>label</th>\n",
              "    </tr>\n",
              "  </thead>\n",
              "  <tbody>\n",
              "    <tr>\n",
              "      <th>0</th>\n",
              "      <td>আমরা আশা করি, ছাত্রশিবির নেতাকর্মীসহ সমাজের প্...</td>\n",
              "      <td>4</td>\n",
              "    </tr>\n",
              "    <tr>\n",
              "      <th>1</th>\n",
              "      <td>সোজা কথায় কাজ হয় না, ঘাড় ধাক্কা দিয়া বললে ঠিক ...</td>\n",
              "      <td>5</td>\n",
              "    </tr>\n",
              "    <tr>\n",
              "      <th>2</th>\n",
              "      <td>আত্মরক্ষার প্রয়াস সর্বাবস্থায় নারীপুরুষ নির্বি...</td>\n",
              "      <td>1</td>\n",
              "    </tr>\n",
              "    <tr>\n",
              "      <th>3</th>\n",
              "      <td>দাওয়াত ও তাবলীগ এর মৌলিক পরিচয়ঃ  দুনিয়ার বুকে ...</td>\n",
              "      <td>1</td>\n",
              "    </tr>\n",
              "    <tr>\n",
              "      <th>4</th>\n",
              "      <td>বালকটি বৃষ্টি পাগল. অনেকদিন বৃষ্টির অপেক্ষায় প...</td>\n",
              "      <td>5</td>\n",
              "    </tr>\n",
              "  </tbody>\n",
              "</table>\n",
              "</div>"
            ],
            "text/plain": [
              "                                              status  label\n",
              "0  আমরা আশা করি, ছাত্রশিবির নেতাকর্মীসহ সমাজের প্...      4\n",
              "1  সোজা কথায় কাজ হয় না, ঘাড় ধাক্কা দিয়া বললে ঠিক ...      5\n",
              "2  আত্মরক্ষার প্রয়াস সর্বাবস্থায় নারীপুরুষ নির্বি...      1\n",
              "3  দাওয়াত ও তাবলীগ এর মৌলিক পরিচয়ঃ  দুনিয়ার বুকে ...      1\n",
              "4  বালকটি বৃষ্টি পাগল. অনেকদিন বৃষ্টির অপেক্ষায় প...      5"
            ]
          },
          "metadata": {},
          "execution_count": 13
        }
      ]
    },
    {
      "cell_type": "markdown",
      "metadata": {
        "id": "fS3YUzaJsjnc"
      },
      "source": [
        "## Show the number posts against their Classes"
      ]
    },
    {
      "cell_type": "code",
      "metadata": {
        "scrolled": false,
        "colab": {
          "base_uri": "https://localhost:8080/",
          "height": 475
        },
        "id": "6cpGKhkdqGOb",
        "outputId": "365fbb71-2205-4f58-b41e-b04816655d1d"
      },
      "source": [
        "cnts = [0]*6\n",
        "\n",
        "for i in range(6):\n",
        "    cnts[i] = len(data[data.label==i])\n",
        "y_pos = np.arange(len(clmn))\n",
        "plt.figure(figsize=(14, 6))\n",
        "plt.bar(y_pos, cnts)\n",
        "plt.xticks(y_pos, clmn)\n",
        "plt.xlabel('Classes')\n",
        "plt.ylabel('Number of posts')\n",
        "\n",
        "for index, countData in enumerate(cnts):\n",
        "    plt.text(x=index , y =countData+2 , s=f\"{round(countData, 2)}\" , fontdict=dict(fontsize=20))\n",
        "plt.tight_layout()\n",
        "\n",
        "plt.show()\n",
        "\n",
        "\n",
        "print(len(data))\n",
        "print(cnts)"
      ],
      "execution_count": 14,
      "outputs": [
        {
          "output_type": "display_data",
          "data": {
            "image/png": "[encoded data removed]",
            "text/plain": [
              "<Figure size 1008x432 with 1 Axes>"
            ]
          },
          "metadata": {
            "needs_background": "light"
          }
        },
        {
          "output_type": "stream",
          "name": "stdout",
          "text": [
            "7113\n",
            "[842, 1345, 690, 671, 1181, 2384]\n"
          ]
        }
      ]
    },
    {
      "cell_type": "markdown",
      "metadata": {
        "id": "CMlAo7TKviTz"
      },
      "source": [
        "## Use CountVectorizer for counting the n-gram frequency"
      ]
    },
    {
      "cell_type": "code",
      "metadata": {
        "id": "DBlbzbSNqGOb"
      },
      "source": [
        "from sklearn.feature_extraction.text import CountVectorizer, TfidfTransformer\n",
        "from sklearn.utils import shuffle\n",
        "from sklearn.model_selection import train_test_split\n",
        "\n",
        "vec = CountVectorizer(ngram_range=(1, 3))\n",
        "X = vec.fit_transform(data.status.values)\n",
        "y = data.label.values"
      ],
      "execution_count": null,
      "outputs": []
    },
    {
      "cell_type": "markdown",
      "metadata": {
        "id": "zwlR_thgv6Sd"
      },
      "source": [
        "## Split training testing data. Take 20% data for testing"
      ]
    },
    {
      "cell_type": "code",
      "metadata": {
        "id": "SzMH5F1ivd5u"
      },
      "source": [
        "X_train, X_test, y_train, y_test = train_test_split(X, y, test_size=0.2, random_state=42)"
      ],
      "execution_count": null,
      "outputs": []
    },
    {
      "cell_type": "markdown",
      "metadata": {
        "id": "VYhwyM9iwXko"
      },
      "source": [
        "## MultinomialNB"
      ]
    },
    {
      "cell_type": "code",
      "metadata": {
        "colab": {
          "base_uri": "https://localhost:8080/"
        },
        "id": "-eomqVZ_wc_H",
        "outputId": "2f42d7ba-082d-4f71-df3c-1bae4c50dc04"
      },
      "source": [
        "mnbClf = MultinomialNB()\n",
        "mnbClf.fit(X_train, y_train)\n",
        "mnbClf_pred = mnbClf.predict(X_test)\n",
        "cm = confusion_matrix(y_test, mnbClf_pred)\n",
        "print(cm)\n",
        "mnbClfAc = accuracy_score(y_test, mnbClf_pred)\n",
        "print(mnbClfAc)"
      ],
      "execution_count": null,
      "outputs": [
        {
          "output_type": "stream",
          "name": "stdout",
          "text": [
            "[[138   1   0   0   0  20]\n",
            " [  0 259   0   0   4  22]\n",
            " [  0  12  95   0   0  25]\n",
            " [  3  11   4  65   5  41]\n",
            " [  0   4   0   0 211  24]\n",
            " [  3   9   2   2  10 453]]\n",
            "0.8580463808854533\n"
          ]
        }
      ]
    },
    {
      "cell_type": "markdown",
      "metadata": {
        "id": "IPndKc5Qwmu_"
      },
      "source": [
        "## LogisticRegression"
      ]
    },
    {
      "cell_type": "code",
      "metadata": {
        "colab": {
          "base_uri": "https://localhost:8080/"
        },
        "id": "RCeXqUD-woRc",
        "outputId": "b54da1ee-98cb-4979-abe3-ccf9528c94f6"
      },
      "source": [
        "lrClf = LogisticRegression(fit_intercept=True, intercept_scaling=1, class_weight='balanced', solver='liblinear', max_iter=500)\n",
        "lrClf.fit(X_train, y_train)\n",
        "lrClf_pred = mnbClf.predict(X_test)\n",
        "cm = confusion_matrix(y_test, lrClf_pred)\n",
        "print(cm)\n",
        "lrClfAc = accuracy_score(y_test, lrClf_pred)\n",
        "print(lrClfAc)"
      ],
      "execution_count": null,
      "outputs": [
        {
          "output_type": "stream",
          "name": "stdout",
          "text": [
            "[[138   1   0   0   0  20]\n",
            " [  0 259   0   0   4  22]\n",
            " [  0  12  95   0   0  25]\n",
            " [  3  11   4  65   5  41]\n",
            " [  0   4   0   0 211  24]\n",
            " [  3   9   2   2  10 453]]\n",
            "0.8580463808854533\n"
          ]
        }
      ]
    },
    {
      "cell_type": "markdown",
      "metadata": {
        "id": "1FuSZ4oIyQXZ"
      },
      "source": [
        "## RandomForestClassifier"
      ]
    },
    {
      "cell_type": "code",
      "metadata": {
        "colab": {
          "base_uri": "https://localhost:8080/"
        },
        "id": "E-3SpCt7yPfj",
        "outputId": "695337b9-d09c-4635-9e96-b18a05ac6c6a"
      },
      "source": [
        "from sklearn.ensemble import RandomForestClassifier\n",
        "\n",
        "rfClf = RandomForestClassifier(n_estimators=200, max_depth=3, random_state=40)\n",
        "rfClf.fit(X_train, y_train)\n",
        "rfClf_pred = rfClf.predict(X_test)\n",
        "cm = confusion_matrix(y_test, rfClf_pred)\n",
        "print(cm)\n",
        "rfClfAc = accuracy_score(y_test, rfClf_pred)\n",
        "print(rfClfAc)"
      ],
      "execution_count": null,
      "outputs": [
        {
          "output_type": "stream",
          "name": "stdout",
          "text": [
            "[[  0   0   0   0   0 159]\n",
            " [  0 140   0   0   0 145]\n",
            " [  0   0   0   0   0 132]\n",
            " [  0   0   0   0   0 129]\n",
            " [  0   0   0   0   0 239]\n",
            " [  0   0   0   0   0 479]]\n",
            "0.4349964862965566\n"
          ]
        }
      ]
    },
    {
      "cell_type": "markdown",
      "metadata": {
        "id": "53ZKX4dgyWY1"
      },
      "source": [
        "\n",
        "## LinearSVC"
      ]
    },
    {
      "cell_type": "code",
      "metadata": {
        "colab": {
          "base_uri": "https://localhost:8080/"
        },
        "id": "oHHBQ5ZRyamj",
        "outputId": "018fe41e-7070-4d68-ece6-2a950567de82"
      },
      "source": [
        "from sklearn.svm import LinearSVC\n",
        "\n",
        "lSVC_clf = LinearSVC(max_iter=10000)\n",
        "lSVC_clf.fit(X_train, y_train)\n",
        "lSVC_clf_pred = lSVC_clf.predict(X_test)\n",
        "cm = confusion_matrix(y_test, lSVC_clf_pred)\n",
        "print(cm)\n",
        "lSVC_clfAc = accuracy_score(y_test, lSVC_clf_pred)\n",
        "print(lSVC_clfAc)"
      ],
      "execution_count": null,
      "outputs": [
        {
          "output_type": "stream",
          "name": "stdout",
          "text": [
            "[[146   0   0   0   4   9]\n",
            " [  0 266   3   2   2  12]\n",
            " [  0   0 123   0   0   9]\n",
            " [  0   2   3  98   2  24]\n",
            " [  2   1   5   4 199  28]\n",
            " [  4   2  15  10  10 438]]\n",
            "0.8924806746310612\n"
          ]
        }
      ]
    },
    {
      "cell_type": "markdown",
      "metadata": {
        "id": "4TjclGeoykhh"
      },
      "source": [
        "\n",
        "## 5 fold Cross validation for MultinomialNB, LogisticRegression, RandomForestClassifier and LinearSVC"
      ]
    },
    {
      "cell_type": "code",
      "metadata": {
        "colab": {
          "base_uri": "https://localhost:8080/",
          "height": 297
        },
        "id": "fOYk7sH5wzwk",
        "outputId": "c07a580b-eb94-4a6e-cde6-1831768052aa"
      },
      "source": [
        "\n",
        "from sklearn.model_selection import cross_val_score\n",
        "\n",
        "models = [\n",
        "    RandomForestClassifier(n_estimators=200, max_depth=3, random_state=40),\n",
        "    LinearSVC(max_iter=10000),\n",
        "    MultinomialNB(),\n",
        "    LogisticRegression(random_state=0)\n",
        "]\n",
        "CV = 5\n",
        "cv_df = pd.DataFrame(index=range(CV * len(models)))\n",
        "entries = []\n",
        "for model in models:\n",
        "  model_name = model.__class__.__name__\n",
        "  accuracies = cross_val_score(model, X, y, scoring='accuracy', cv=CV)\n",
        "  for fold_idx, accuracy in enumerate(accuracies):\n",
        "    entries.append((model_name, fold_idx, accuracy))\n",
        "cv_df = pd.DataFrame(entries, columns=['model_name', 'fold_idx', 'accuracy'])\n",
        "import seaborn as sns\n",
        "sns.boxplot(x='model_name', y='accuracy', data=cv_df)\n",
        "sns.stripplot(x='model_name', y='accuracy', data=cv_df, \n",
        "              size=8, jitter=True, edgecolor=\"gray\", linewidth=2)"
      ],
      "execution_count": null,
      "outputs": [
        {
          "output_type": "execute_result",
          "data": {
            "text/plain": [
              "<matplotlib.axes._subplots.AxesSubplot at 0x7f7da079ce10>"
            ]
          },
          "metadata": {},
          "execution_count": 14
        },
        {
          "output_type": "display_data",
          "data": {
            "image/png": "[encoded data removed]",
            "text/plain": [
              "<Figure size 432x288 with 1 Axes>"
            ]
          },
          "metadata": {
            "needs_background": "light"
          }
        }
      ]
    },
    {
      "cell_type": "markdown",
      "metadata": {
        "id": "hHKuY0Pj0gWW"
      },
      "source": [
        "## Mean accuracy for MultinomialNB, LogisticRegression, RandomForestClassifier and LinearSVC"
      ]
    },
    {
      "cell_type": "code",
      "metadata": {
        "colab": {
          "base_uri": "https://localhost:8080/"
        },
        "id": "QDNCZZZFyCfz",
        "outputId": "9aed891d-cb14-4802-dc1a-d32f01e39bd0"
      },
      "source": [
        "accuracyDF = cv_df.groupby('model_name').accuracy.mean()\n",
        "print(accuracyDF)"
      ],
      "execution_count": null,
      "outputs": [
        {
          "output_type": "stream",
          "name": "stdout",
          "text": [
            "model_name\n",
            "LinearSVC                 0.886828\n",
            "LogisticRegression        0.892169\n",
            "MultinomialNB             0.859832\n",
            "RandomForestClassifier    0.415717\n",
            "Name: accuracy, dtype: float64\n"
          ]
        }
      ]
    },
    {
      "cell_type": "markdown",
      "metadata": {
        "id": "_iJjJBkP0uTy"
      },
      "source": [
        "# **Deep learning model**"
      ]
    },
    {
      "cell_type": "markdown",
      "metadata": {
        "id": "Mh8tNT0P1KLe"
      },
      "source": [
        "# Import tensorflow and keras for building RNN and CNN"
      ]
    },
    {
      "cell_type": "code",
      "metadata": {
        "id": "xzT9FzrWqGOe"
      },
      "source": [
        "from tensorflow.keras.layers import Embedding, Input, LSTM, Dense, MaxPooling1D, GlobalMaxPooling1D, Dropout, GRU\n",
        "from tensorflow.keras.layers import Conv1D, Flatten,Bidirectional\n",
        "from tensorflow.keras.models import Model, load_model\n",
        "from tensorflow.keras import losses, optimizers\n",
        "\n",
        "from tensorflow.keras.preprocessing.text import Tokenizer\n",
        "from tensorflow.keras.utils import to_categorical\n",
        "from tensorflow.keras.activations import softmax\n",
        "from tensorflow.keras.preprocessing.sequence import pad_sequences"
      ],
      "execution_count": null,
      "outputs": []
    },
    {
      "cell_type": "markdown",
      "metadata": {
        "id": "RPeLW-Zc3FHL"
      },
      "source": [
        "## Use Tokenizer for creating creating word tokens\n",
        "\n",
        "---\n",
        "\n"
      ]
    },
    {
      "cell_type": "code",
      "metadata": {
        "colab": {
          "base_uri": "https://localhost:8080/"
        },
        "id": "QlhUHb6LqGOe",
        "outputId": "5b56f3a8-7dc2-4547-c0f8-9b0a84fc5d0b"
      },
      "source": [
        "max_feautres = 10000\n",
        "tok = Tokenizer(num_words=max_feautres)\n",
        "tok.fit_on_texts(data.status)\n",
        "print(len(tok.word_index))"
      ],
      "execution_count": null,
      "outputs": [
        {
          "output_type": "stream",
          "name": "stdout",
          "text": [
            "21311\n"
          ]
        }
      ]
    },
    {
      "cell_type": "markdown",
      "metadata": {
        "id": "mqxaJo4e_zuu"
      },
      "source": [
        "# Converting the word sequence to corresponding number sequence"
      ]
    },
    {
      "cell_type": "code",
      "metadata": {
        "id": "NRK3A4p06L1X"
      },
      "source": [
        "seq_len = 200\n",
        "data['status_seq'] = tok.texts_to_sequences(data.status)"
      ],
      "execution_count": null,
      "outputs": []
    },
    {
      "cell_type": "markdown",
      "metadata": {
        "id": "aZnrZx6H6cF1"
      },
      "source": [
        "# Padding the sequences to make same lenght (200)"
      ]
    },
    {
      "cell_type": "code",
      "metadata": {
        "id": "E9YrvtH6qGOf"
      },
      "source": [
        "X = pad_sequences(data.status_seq, maxlen=seq_len)"
      ],
      "execution_count": null,
      "outputs": []
    },
    {
      "cell_type": "markdown",
      "metadata": {
        "id": "F5eFY3nc6nfV"
      },
      "source": [
        "# Convert Label to One-hot encoding"
      ]
    },
    {
      "cell_type": "code",
      "metadata": {
        "id": "xsMuuSdQ6mvz"
      },
      "source": [
        "y = to_categorical(data.label, num_classes=len(clmn))"
      ],
      "execution_count": null,
      "outputs": []
    },
    {
      "cell_type": "markdown",
      "metadata": {
        "id": "VPzacbkl4Zyp"
      },
      "source": [
        "## Split training and testing data. Take 20% data for testing"
      ]
    },
    {
      "cell_type": "code",
      "metadata": {
        "id": "k4XrRkoL4hOv"
      },
      "source": [
        "X_train, X_test, y_train, y_test = train_test_split(X, y, test_size=0.2, random_state=100)"
      ],
      "execution_count": null,
      "outputs": []
    },
    {
      "cell_type": "markdown",
      "metadata": {
        "id": "WrC1xGa74-Sr"
      },
      "source": [
        "## Set parameteres model"
      ]
    },
    {
      "cell_type": "code",
      "metadata": {
        "id": "9sc_2tB05E_5"
      },
      "source": [
        "emmbed_size = 64\n",
        "lstm_size = 100\n",
        "batch_size = 300\n",
        "n_layers = 2\n",
        "n_input = seq_len"
      ],
      "execution_count": null,
      "outputs": []
    },
    {
      "cell_type": "markdown",
      "metadata": {
        "id": "utmsp0RZ5J2f"
      },
      "source": [
        "# Build the RNN model"
      ]
    },
    {
      "cell_type": "code",
      "metadata": {
        "scrolled": true,
        "colab": {
          "base_uri": "https://localhost:8080/"
        },
        "id": "FeUPkvRAqGOf",
        "outputId": "80415fff-9ed3-45a7-8001-d5970c0636ad"
      },
      "source": [
        "inp = Input(shape=(n_input, ))\n",
        "x = Embedding(max_feautres, emmbed_size, input_length=n_input)(inp)\n",
        "for _ in range(n_layers):\n",
        "    x = LSTM(lstm_size, return_sequences=True)(x)\n",
        "    x = Dropout(0.2)(x)\n",
        "x = Flatten()(x)\n",
        "x = Dense(64, activation='relu')(x)\n",
        "x = Dropout(0.2)(x)\n",
        "x = Dense(6, activation='softmax')(x)\n",
        "\n",
        "model = Model(inputs=inp, outputs=x)\n",
        "model.summary()"
      ],
      "execution_count": null,
      "outputs": [
        {
          "output_type": "stream",
          "name": "stdout",
          "text": [
            "Model: \"model\"\n",
            "_________________________________________________________________\n",
            "Layer (type)                 Output Shape              Param #   \n",
            "=================================================================\n",
            "input_1 (InputLayer)         [(None, 200)]             0         \n",
            "_________________________________________________________________\n",
            "embedding (Embedding)        (None, 200, 64)           640000    \n",
            "_________________________________________________________________\n",
            "lstm (LSTM)                  (None, 200, 100)          66000     \n",
            "_________________________________________________________________\n",
            "dropout (Dropout)            (None, 200, 100)          0         \n",
            "_________________________________________________________________\n",
            "lstm_1 (LSTM)                (None, 200, 100)          80400     \n",
            "_________________________________________________________________\n",
            "dropout_1 (Dropout)          (None, 200, 100)          0         \n",
            "_________________________________________________________________\n",
            "flatten (Flatten)            (None, 20000)             0         \n",
            "_________________________________________________________________\n",
            "dense (Dense)                (None, 64)                1280064   \n",
            "_________________________________________________________________\n",
            "dropout_2 (Dropout)          (None, 64)                0         \n",
            "_________________________________________________________________\n",
            "dense_1 (Dense)              (None, 6)                 390       \n",
            "=================================================================\n",
            "Total params: 2,066,854\n",
            "Trainable params: 2,066,854\n",
            "Non-trainable params: 0\n",
            "_________________________________________________________________\n"
          ]
        }
      ]
    },
    {
      "cell_type": "code",
      "metadata": {
        "colab": {
          "base_uri": "https://localhost:8080/"
        },
        "id": "PIjZciNYqGOg",
        "outputId": "52c1478c-43f2-40f5-9fbe-9caa04c35046"
      },
      "source": [
        "model.compile(loss=losses.categorical_crossentropy, optimizer='adam', metrics=['accuracy'])\n",
        "model.fit(X_train, y_train, epochs = 50, batch_size=batch_size, validation_data=(X_test, y_test), verbose=2, shuffle=True)"
      ],
      "execution_count": null,
      "outputs": [
        {
          "output_type": "stream",
          "name": "stdout",
          "text": [
            "Epoch 1/50\n",
            "19/19 - 48s - loss: 1.5515 - accuracy: 0.4132 - val_loss: 1.3427 - val_accuracy: 0.4772\n",
            "Epoch 2/50\n",
            "19/19 - 42s - loss: 1.3021 - accuracy: 0.4963 - val_loss: 1.2381 - val_accuracy: 0.5046\n",
            "Epoch 3/50\n",
            "19/19 - 42s - loss: 1.1442 - accuracy: 0.5633 - val_loss: 1.0369 - val_accuracy: 0.6374\n",
            "Epoch 4/50\n",
            "19/19 - 43s - loss: 0.9208 - accuracy: 0.6554 - val_loss: 0.9227 - val_accuracy: 0.6606\n",
            "Epoch 5/50\n",
            "19/19 - 44s - loss: 0.7465 - accuracy: 0.7091 - val_loss: 0.7951 - val_accuracy: 0.7210\n",
            "Epoch 6/50\n",
            "19/19 - 42s - loss: 0.5452 - accuracy: 0.7905 - val_loss: 0.7763 - val_accuracy: 0.7969\n",
            "Epoch 7/50\n",
            "19/19 - 42s - loss: 0.4154 - accuracy: 0.8492 - val_loss: 0.6999 - val_accuracy: 0.8398\n",
            "Epoch 8/50\n",
            "19/19 - 42s - loss: 0.3169 - accuracy: 0.8910 - val_loss: 0.7736 - val_accuracy: 0.8700\n",
            "Epoch 9/50\n",
            "19/19 - 42s - loss: 0.2644 - accuracy: 0.9130 - val_loss: 0.5467 - val_accuracy: 0.8756\n",
            "Epoch 10/50\n",
            "19/19 - 42s - loss: 0.2047 - accuracy: 0.9323 - val_loss: 0.5190 - val_accuracy: 0.9009\n",
            "Epoch 11/50\n",
            "19/19 - 42s - loss: 0.1405 - accuracy: 0.9557 - val_loss: 0.5350 - val_accuracy: 0.9150\n",
            "Epoch 12/50\n",
            "19/19 - 42s - loss: 0.1013 - accuracy: 0.9678 - val_loss: 0.6101 - val_accuracy: 0.9227\n",
            "Epoch 13/50\n",
            "19/19 - 42s - loss: 0.0888 - accuracy: 0.9752 - val_loss: 0.6278 - val_accuracy: 0.9234\n",
            "Epoch 14/50\n",
            "19/19 - 42s - loss: 0.0762 - accuracy: 0.9803 - val_loss: 0.6020 - val_accuracy: 0.9311\n",
            "Epoch 15/50\n",
            "19/19 - 42s - loss: 0.0730 - accuracy: 0.9821 - val_loss: 0.6289 - val_accuracy: 0.9318\n",
            "Epoch 16/50\n",
            "19/19 - 42s - loss: 0.0561 - accuracy: 0.9845 - val_loss: 0.6020 - val_accuracy: 0.9339\n",
            "Epoch 17/50\n",
            "19/19 - 42s - loss: 0.0610 - accuracy: 0.9830 - val_loss: 0.5989 - val_accuracy: 0.9368\n",
            "Epoch 18/50\n",
            "19/19 - 42s - loss: 0.0493 - accuracy: 0.9868 - val_loss: 0.5922 - val_accuracy: 0.9332\n",
            "Epoch 19/50\n",
            "19/19 - 42s - loss: 0.0428 - accuracy: 0.9877 - val_loss: 0.6594 - val_accuracy: 0.9361\n",
            "Epoch 20/50\n",
            "19/19 - 42s - loss: 0.0390 - accuracy: 0.9902 - val_loss: 0.6552 - val_accuracy: 0.9396\n",
            "Epoch 21/50\n",
            "19/19 - 42s - loss: 0.0345 - accuracy: 0.9902 - val_loss: 0.6319 - val_accuracy: 0.9396\n",
            "Epoch 22/50\n",
            "19/19 - 42s - loss: 0.0317 - accuracy: 0.9912 - val_loss: 0.6535 - val_accuracy: 0.9396\n",
            "Epoch 23/50\n",
            "19/19 - 43s - loss: 0.0292 - accuracy: 0.9914 - val_loss: 0.6719 - val_accuracy: 0.9410\n",
            "Epoch 24/50\n",
            "19/19 - 42s - loss: 0.0295 - accuracy: 0.9917 - val_loss: 0.6833 - val_accuracy: 0.9410\n",
            "Epoch 25/50\n",
            "19/19 - 42s - loss: 0.0313 - accuracy: 0.9910 - val_loss: 0.6626 - val_accuracy: 0.9403\n",
            "Epoch 26/50\n",
            "19/19 - 43s - loss: 0.0267 - accuracy: 0.9926 - val_loss: 0.6941 - val_accuracy: 0.9389\n",
            "Epoch 27/50\n",
            "19/19 - 42s - loss: 0.0229 - accuracy: 0.9933 - val_loss: 0.7003 - val_accuracy: 0.9396\n",
            "Epoch 28/50\n",
            "19/19 - 43s - loss: 0.0221 - accuracy: 0.9938 - val_loss: 0.6872 - val_accuracy: 0.9410\n",
            "Epoch 29/50\n",
            "19/19 - 42s - loss: 0.0425 - accuracy: 0.9916 - val_loss: 0.6367 - val_accuracy: 0.9346\n",
            "Epoch 30/50\n",
            "19/19 - 42s - loss: 0.0375 - accuracy: 0.9882 - val_loss: 0.5755 - val_accuracy: 0.9389\n",
            "Epoch 31/50\n",
            "19/19 - 43s - loss: 0.0258 - accuracy: 0.9923 - val_loss: 0.5699 - val_accuracy: 0.9410\n",
            "Epoch 32/50\n",
            "19/19 - 42s - loss: 0.0230 - accuracy: 0.9940 - val_loss: 0.5654 - val_accuracy: 0.9459\n",
            "Epoch 33/50\n",
            "19/19 - 43s - loss: 0.0277 - accuracy: 0.9933 - val_loss: 0.5584 - val_accuracy: 0.9466\n",
            "Epoch 34/50\n",
            "19/19 - 43s - loss: 0.0202 - accuracy: 0.9938 - val_loss: 0.5869 - val_accuracy: 0.9445\n",
            "Epoch 35/50\n",
            "19/19 - 42s - loss: 0.0187 - accuracy: 0.9935 - val_loss: 0.5926 - val_accuracy: 0.9452\n",
            "Epoch 36/50\n",
            "19/19 - 43s - loss: 0.0204 - accuracy: 0.9940 - val_loss: 0.5633 - val_accuracy: 0.9459\n",
            "Epoch 37/50\n",
            "19/19 - 43s - loss: 0.0183 - accuracy: 0.9946 - val_loss: 0.5750 - val_accuracy: 0.9480\n",
            "Epoch 38/50\n",
            "19/19 - 42s - loss: 0.0177 - accuracy: 0.9949 - val_loss: 0.5971 - val_accuracy: 0.9473\n",
            "Epoch 39/50\n",
            "19/19 - 42s - loss: 0.0163 - accuracy: 0.9944 - val_loss: 0.5762 - val_accuracy: 0.9473\n",
            "Epoch 40/50\n",
            "19/19 - 42s - loss: 0.0167 - accuracy: 0.9946 - val_loss: 0.5940 - val_accuracy: 0.9452\n",
            "Epoch 41/50\n",
            "19/19 - 42s - loss: 0.0172 - accuracy: 0.9953 - val_loss: 0.5797 - val_accuracy: 0.9459\n",
            "Epoch 42/50\n",
            "19/19 - 42s - loss: 0.0157 - accuracy: 0.9949 - val_loss: 0.6567 - val_accuracy: 0.9382\n",
            "Epoch 43/50\n",
            "19/19 - 43s - loss: 0.0158 - accuracy: 0.9947 - val_loss: 0.5945 - val_accuracy: 0.9417\n",
            "Epoch 44/50\n",
            "19/19 - 42s - loss: 0.0158 - accuracy: 0.9947 - val_loss: 0.6446 - val_accuracy: 0.9424\n",
            "Epoch 45/50\n",
            "19/19 - 43s - loss: 0.0162 - accuracy: 0.9949 - val_loss: 0.6275 - val_accuracy: 0.9445\n",
            "Epoch 46/50\n",
            "19/19 - 42s - loss: 0.0150 - accuracy: 0.9951 - val_loss: 0.6040 - val_accuracy: 0.9417\n",
            "Epoch 47/50\n",
            "19/19 - 42s - loss: 0.0142 - accuracy: 0.9954 - val_loss: 0.7869 - val_accuracy: 0.9431\n",
            "Epoch 48/50\n",
            "19/19 - 42s - loss: 0.0157 - accuracy: 0.9947 - val_loss: 0.7416 - val_accuracy: 0.9438\n",
            "Epoch 49/50\n",
            "19/19 - 42s - loss: 0.0133 - accuracy: 0.9958 - val_loss: 0.7723 - val_accuracy: 0.9445\n",
            "Epoch 50/50\n",
            "19/19 - 42s - loss: 0.0147 - accuracy: 0.9946 - val_loss: 0.7356 - val_accuracy: 0.9410\n"
          ]
        },
        {
          "output_type": "execute_result",
          "data": {
            "text/plain": [
              "<keras.callbacks.History at 0x7f7d4e07d690>"
            ]
          },
          "metadata": {},
          "execution_count": 24
        }
      ]
    },
    {
      "cell_type": "markdown",
      "metadata": {
        "id": "vc5kHog1At-Y"
      },
      "source": [
        "# Create confusion matrix and predict accuracy for RNN"
      ]
    },
    {
      "cell_type": "code",
      "metadata": {
        "colab": {
          "base_uri": "https://localhost:8080/"
        },
        "id": "ouSPZCOgqGOh",
        "outputId": "10de51f7-f9e5-4ed7-da70-3a8da082dff5"
      },
      "source": [
        "pred = model.predict(X_test)\n",
        "pred = np.argmax(pred, axis=1)\n",
        "y_tmp = np.argmax(y_test, axis=1)\n",
        "rnnAc = accuracy_score(y_tmp, pred)\n",
        "cnf = confusion_matrix(y_tmp, pred)\n",
        "\n",
        "print('RNN:', rnnAc)\n",
        "print(cnf)"
      ],
      "execution_count": null,
      "outputs": [
        {
          "output_type": "stream",
          "name": "stdout",
          "text": [
            "RNN: 0.9163738580463809\n",
            "[[159   0   2   0   4   9]\n",
            " [  1 261   1   2   5  10]\n",
            " [  0   0 133   0   0   8]\n",
            " [  0   3   6 104   0  10]\n",
            " [ 15   7   1   2 202   8]\n",
            " [ 14   0   7   2   2 445]]\n"
          ]
        }
      ]
    },
    {
      "cell_type": "markdown",
      "metadata": {
        "id": "ODp3hld9BuK1"
      },
      "source": [
        "# Build the CNN model"
      ]
    },
    {
      "cell_type": "code",
      "metadata": {
        "colab": {
          "base_uri": "https://localhost:8080/"
        },
        "id": "8zkpDLQeqGOi",
        "outputId": "578783c4-0106-41d5-c010-e2df7bc4d1ec"
      },
      "source": [
        "# The CNN model\n",
        "inp = Input(shape=(n_input, ))\n",
        "x = Embedding(max_feautres, emmbed_size, input_length=n_input)(inp)\n",
        "x = Conv1D(32, 5, strides=1)(x)\n",
        "x = MaxPooling1D(pool_size=2)(x)\n",
        "x = Dropout(0.2)(x)\n",
        "x = Conv1D(64, 10, strides=1)(x)\n",
        "x = MaxPooling1D(pool_size=5)(x)\n",
        "x = Dropout(0.2)(x)\n",
        "x = Flatten()(x)\n",
        "x = Dense(64, activation='relu')(x)\n",
        "x = Dropout(0.2)(x)\n",
        "x = Dense(6, activation='softmax')(x)\n",
        "\n",
        "model = Model(inputs=inp, outputs=x)\n",
        "model.summary()"
      ],
      "execution_count": null,
      "outputs": [
        {
          "output_type": "stream",
          "name": "stdout",
          "text": [
            "Model: \"model_1\"\n",
            "_________________________________________________________________\n",
            "Layer (type)                 Output Shape              Param #   \n",
            "=================================================================\n",
            "input_2 (InputLayer)         [(None, 200)]             0         \n",
            "_________________________________________________________________\n",
            "embedding_1 (Embedding)      (None, 200, 64)           640000    \n",
            "_________________________________________________________________\n",
            "conv1d (Conv1D)              (None, 196, 32)           10272     \n",
            "_________________________________________________________________\n",
            "max_pooling1d (MaxPooling1D) (None, 98, 32)            0         \n",
            "_________________________________________________________________\n",
            "dropout_3 (Dropout)          (None, 98, 32)            0         \n",
            "_________________________________________________________________\n",
            "conv1d_1 (Conv1D)            (None, 89, 64)            20544     \n",
            "_________________________________________________________________\n",
            "max_pooling1d_1 (MaxPooling1 (None, 17, 64)            0         \n",
            "_________________________________________________________________\n",
            "dropout_4 (Dropout)          (None, 17, 64)            0         \n",
            "_________________________________________________________________\n",
            "flatten_1 (Flatten)          (None, 1088)              0         \n",
            "_________________________________________________________________\n",
            "dense_2 (Dense)              (None, 64)                69696     \n",
            "_________________________________________________________________\n",
            "dropout_5 (Dropout)          (None, 64)                0         \n",
            "_________________________________________________________________\n",
            "dense_3 (Dense)              (None, 6)                 390       \n",
            "=================================================================\n",
            "Total params: 740,902\n",
            "Trainable params: 740,902\n",
            "Non-trainable params: 0\n",
            "_________________________________________________________________\n"
          ]
        }
      ]
    },
    {
      "cell_type": "markdown",
      "metadata": {
        "id": "o4bQRg9ZB6XR"
      },
      "source": [
        "# Compile and fit the CNN model"
      ]
    },
    {
      "cell_type": "code",
      "metadata": {
        "colab": {
          "base_uri": "https://localhost:8080/"
        },
        "id": "MyUUt5UKqGOi",
        "outputId": "85244bd7-61c2-47ff-dee2-640ce985e995"
      },
      "source": [
        "model.compile(loss=losses.categorical_crossentropy, optimizer='adam', metrics=['accuracy'])\n",
        "\n",
        "model.fit(X_train, y_train, epochs = 100, batch_size=batch_size, validation_data=(X_test, y_test), verbose=2, shuffle=True)"
      ],
      "execution_count": null,
      "outputs": [
        {
          "output_type": "stream",
          "name": "stdout",
          "text": [
            "Epoch 1/100\n",
            "19/19 - 6s - loss: 1.5824 - accuracy: 0.3873 - val_loss: 1.4488 - val_accuracy: 0.4406\n",
            "Epoch 2/100\n",
            "19/19 - 5s - loss: 1.3892 - accuracy: 0.4545 - val_loss: 1.3187 - val_accuracy: 0.4863\n",
            "Epoch 3/100\n",
            "19/19 - 5s - loss: 1.2988 - accuracy: 0.4975 - val_loss: 1.2658 - val_accuracy: 0.4961\n",
            "Epoch 4/100\n",
            "19/19 - 5s - loss: 1.2279 - accuracy: 0.5035 - val_loss: 1.1957 - val_accuracy: 0.5151\n",
            "Epoch 5/100\n",
            "19/19 - 5s - loss: 1.1295 - accuracy: 0.5406 - val_loss: 1.1115 - val_accuracy: 0.5784\n",
            "Epoch 6/100\n",
            "19/19 - 5s - loss: 1.0171 - accuracy: 0.5902 - val_loss: 1.0712 - val_accuracy: 0.6072\n",
            "Epoch 7/100\n",
            "19/19 - 5s - loss: 0.9268 - accuracy: 0.6429 - val_loss: 1.0330 - val_accuracy: 0.6304\n",
            "Epoch 8/100\n",
            "19/19 - 5s - loss: 0.8514 - accuracy: 0.6782 - val_loss: 1.0084 - val_accuracy: 0.6571\n",
            "Epoch 9/100\n",
            "19/19 - 5s - loss: 0.7812 - accuracy: 0.7121 - val_loss: 1.0026 - val_accuracy: 0.6803\n",
            "Epoch 10/100\n",
            "19/19 - 5s - loss: 0.7310 - accuracy: 0.7353 - val_loss: 1.0100 - val_accuracy: 0.6866\n",
            "Epoch 11/100\n",
            "19/19 - 5s - loss: 0.6806 - accuracy: 0.7517 - val_loss: 0.9587 - val_accuracy: 0.7020\n",
            "Epoch 12/100\n",
            "19/19 - 5s - loss: 0.6476 - accuracy: 0.7654 - val_loss: 0.9506 - val_accuracy: 0.7091\n",
            "Epoch 13/100\n",
            "19/19 - 5s - loss: 0.6199 - accuracy: 0.7736 - val_loss: 0.9771 - val_accuracy: 0.7161\n",
            "Epoch 14/100\n",
            "19/19 - 5s - loss: 0.5954 - accuracy: 0.7858 - val_loss: 0.9755 - val_accuracy: 0.7231\n",
            "Epoch 15/100\n",
            "19/19 - 5s - loss: 0.5785 - accuracy: 0.7914 - val_loss: 0.9994 - val_accuracy: 0.7365\n",
            "Epoch 16/100\n",
            "19/19 - 5s - loss: 0.5579 - accuracy: 0.8025 - val_loss: 0.9753 - val_accuracy: 0.7456\n",
            "Epoch 17/100\n",
            "19/19 - 5s - loss: 0.5422 - accuracy: 0.8051 - val_loss: 0.9906 - val_accuracy: 0.7540\n",
            "Epoch 18/100\n",
            "19/19 - 5s - loss: 0.5309 - accuracy: 0.8081 - val_loss: 0.9885 - val_accuracy: 0.7519\n",
            "Epoch 19/100\n",
            "19/19 - 5s - loss: 0.5202 - accuracy: 0.8102 - val_loss: 0.9771 - val_accuracy: 0.7604\n",
            "Epoch 20/100\n",
            "19/19 - 5s - loss: 0.5066 - accuracy: 0.8165 - val_loss: 1.0087 - val_accuracy: 0.7540\n",
            "Epoch 21/100\n",
            "19/19 - 5s - loss: 0.5011 - accuracy: 0.8195 - val_loss: 1.0126 - val_accuracy: 0.7611\n",
            "Epoch 22/100\n",
            "19/19 - 5s - loss: 0.4926 - accuracy: 0.8228 - val_loss: 1.0263 - val_accuracy: 0.7604\n",
            "Epoch 23/100\n",
            "19/19 - 5s - loss: 0.4892 - accuracy: 0.8220 - val_loss: 1.0004 - val_accuracy: 0.7688\n",
            "Epoch 24/100\n",
            "19/19 - 5s - loss: 0.4882 - accuracy: 0.8253 - val_loss: 1.0012 - val_accuracy: 0.7723\n",
            "Epoch 25/100\n",
            "19/19 - 5s - loss: 0.4850 - accuracy: 0.8253 - val_loss: 1.0306 - val_accuracy: 0.7730\n",
            "Epoch 26/100\n",
            "19/19 - 5s - loss: 0.4783 - accuracy: 0.8269 - val_loss: 1.0564 - val_accuracy: 0.7716\n",
            "Epoch 27/100\n",
            "19/19 - 5s - loss: 0.4747 - accuracy: 0.8285 - val_loss: 1.0455 - val_accuracy: 0.7793\n",
            "Epoch 28/100\n",
            "19/19 - 5s - loss: 0.4744 - accuracy: 0.8290 - val_loss: 1.0374 - val_accuracy: 0.7822\n",
            "Epoch 29/100\n",
            "19/19 - 5s - loss: 0.4771 - accuracy: 0.8295 - val_loss: 1.0957 - val_accuracy: 0.7765\n",
            "Epoch 30/100\n",
            "19/19 - 5s - loss: 0.4699 - accuracy: 0.8297 - val_loss: 1.0803 - val_accuracy: 0.7793\n",
            "Epoch 31/100\n",
            "19/19 - 5s - loss: 0.4699 - accuracy: 0.8318 - val_loss: 1.0765 - val_accuracy: 0.7829\n",
            "Epoch 32/100\n",
            "19/19 - 5s - loss: 0.4643 - accuracy: 0.8315 - val_loss: 1.0845 - val_accuracy: 0.7829\n",
            "Epoch 33/100\n",
            "19/19 - 5s - loss: 0.4635 - accuracy: 0.8322 - val_loss: 1.0865 - val_accuracy: 0.7793\n",
            "Epoch 34/100\n",
            "19/19 - 5s - loss: 0.4631 - accuracy: 0.8318 - val_loss: 1.1118 - val_accuracy: 0.7800\n",
            "Epoch 35/100\n",
            "19/19 - 5s - loss: 0.4641 - accuracy: 0.8322 - val_loss: 1.1130 - val_accuracy: 0.7779\n",
            "Epoch 36/100\n",
            "19/19 - 5s - loss: 0.4636 - accuracy: 0.8336 - val_loss: 1.1195 - val_accuracy: 0.7786\n",
            "Epoch 37/100\n",
            "19/19 - 5s - loss: 0.4602 - accuracy: 0.8318 - val_loss: 1.1711 - val_accuracy: 0.7765\n",
            "Epoch 38/100\n",
            "19/19 - 5s - loss: 0.4603 - accuracy: 0.8337 - val_loss: 1.1494 - val_accuracy: 0.7786\n",
            "Epoch 39/100\n",
            "19/19 - 5s - loss: 0.4598 - accuracy: 0.8332 - val_loss: 1.1509 - val_accuracy: 0.7814\n",
            "Epoch 40/100\n",
            "19/19 - 5s - loss: 0.4600 - accuracy: 0.8334 - val_loss: 1.1473 - val_accuracy: 0.7807\n",
            "Epoch 41/100\n",
            "19/19 - 5s - loss: 0.4551 - accuracy: 0.8350 - val_loss: 1.1436 - val_accuracy: 0.7779\n",
            "Epoch 42/100\n",
            "19/19 - 5s - loss: 0.4578 - accuracy: 0.8336 - val_loss: 1.1721 - val_accuracy: 0.7807\n",
            "Epoch 43/100\n",
            "19/19 - 5s - loss: 0.4572 - accuracy: 0.8339 - val_loss: 1.1760 - val_accuracy: 0.7786\n",
            "Epoch 44/100\n",
            "19/19 - 5s - loss: 0.4558 - accuracy: 0.8341 - val_loss: 1.1492 - val_accuracy: 0.7779\n",
            "Epoch 45/100\n",
            "19/19 - 5s - loss: 0.4569 - accuracy: 0.8341 - val_loss: 1.1762 - val_accuracy: 0.7800\n",
            "Epoch 46/100\n",
            "19/19 - 5s - loss: 0.4624 - accuracy: 0.8323 - val_loss: 1.1922 - val_accuracy: 0.7786\n",
            "Epoch 47/100\n",
            "19/19 - 5s - loss: 0.4580 - accuracy: 0.8336 - val_loss: 1.1743 - val_accuracy: 0.7737\n",
            "Epoch 48/100\n",
            "19/19 - 5s - loss: 0.4562 - accuracy: 0.8337 - val_loss: 1.2054 - val_accuracy: 0.7786\n",
            "Epoch 49/100\n",
            "19/19 - 5s - loss: 0.4579 - accuracy: 0.8320 - val_loss: 1.2075 - val_accuracy: 0.7751\n",
            "Epoch 50/100\n",
            "19/19 - 5s - loss: 0.4532 - accuracy: 0.8341 - val_loss: 1.2252 - val_accuracy: 0.7779\n",
            "Epoch 51/100\n",
            "19/19 - 5s - loss: 0.4542 - accuracy: 0.8344 - val_loss: 1.2107 - val_accuracy: 0.7772\n",
            "Epoch 52/100\n",
            "19/19 - 5s - loss: 0.4580 - accuracy: 0.8332 - val_loss: 1.2440 - val_accuracy: 0.7765\n",
            "Epoch 53/100\n",
            "19/19 - 5s - loss: 0.4542 - accuracy: 0.8336 - val_loss: 1.1877 - val_accuracy: 0.7793\n",
            "Epoch 54/100\n",
            "19/19 - 5s - loss: 0.4551 - accuracy: 0.8339 - val_loss: 1.2273 - val_accuracy: 0.7765\n",
            "Epoch 55/100\n",
            "19/19 - 5s - loss: 0.4570 - accuracy: 0.8336 - val_loss: 1.2286 - val_accuracy: 0.7800\n",
            "Epoch 56/100\n",
            "19/19 - 5s - loss: 0.4535 - accuracy: 0.8346 - val_loss: 1.1822 - val_accuracy: 0.7772\n",
            "Epoch 57/100\n",
            "19/19 - 5s - loss: 0.4528 - accuracy: 0.8351 - val_loss: 1.1953 - val_accuracy: 0.7772\n",
            "Epoch 58/100\n",
            "19/19 - 5s - loss: 0.4556 - accuracy: 0.8334 - val_loss: 1.1892 - val_accuracy: 0.7772\n",
            "Epoch 59/100\n",
            "19/19 - 5s - loss: 0.4518 - accuracy: 0.8346 - val_loss: 1.2046 - val_accuracy: 0.7779\n",
            "Epoch 60/100\n",
            "19/19 - 5s - loss: 0.4552 - accuracy: 0.8330 - val_loss: 1.2164 - val_accuracy: 0.7807\n",
            "Epoch 61/100\n",
            "19/19 - 5s - loss: 0.4518 - accuracy: 0.8346 - val_loss: 1.2291 - val_accuracy: 0.7779\n",
            "Epoch 62/100\n",
            "19/19 - 5s - loss: 0.4545 - accuracy: 0.8344 - val_loss: 1.2044 - val_accuracy: 0.7786\n",
            "Epoch 63/100\n",
            "19/19 - 5s - loss: 0.4508 - accuracy: 0.8346 - val_loss: 1.1989 - val_accuracy: 0.7800\n",
            "Epoch 64/100\n",
            "19/19 - 5s - loss: 0.4502 - accuracy: 0.8348 - val_loss: 1.2247 - val_accuracy: 0.7786\n",
            "Epoch 65/100\n",
            "19/19 - 5s - loss: 0.4539 - accuracy: 0.8343 - val_loss: 1.1871 - val_accuracy: 0.7786\n",
            "Epoch 66/100\n",
            "19/19 - 5s - loss: 0.4527 - accuracy: 0.8346 - val_loss: 1.2178 - val_accuracy: 0.7800\n",
            "Epoch 67/100\n",
            "19/19 - 5s - loss: 0.4547 - accuracy: 0.8339 - val_loss: 1.1848 - val_accuracy: 0.7800\n",
            "Epoch 68/100\n",
            "19/19 - 5s - loss: 0.4532 - accuracy: 0.8346 - val_loss: 1.1828 - val_accuracy: 0.7779\n",
            "Epoch 69/100\n",
            "19/19 - 5s - loss: 0.4515 - accuracy: 0.8339 - val_loss: 1.1961 - val_accuracy: 0.7779\n",
            "Epoch 70/100\n",
            "19/19 - 5s - loss: 0.4541 - accuracy: 0.8344 - val_loss: 1.2155 - val_accuracy: 0.7800\n",
            "Epoch 71/100\n",
            "19/19 - 5s - loss: 0.4503 - accuracy: 0.8343 - val_loss: 1.2141 - val_accuracy: 0.7807\n",
            "Epoch 72/100\n",
            "19/19 - 5s - loss: 0.4529 - accuracy: 0.8339 - val_loss: 1.1876 - val_accuracy: 0.7786\n",
            "Epoch 73/100\n",
            "19/19 - 5s - loss: 0.4522 - accuracy: 0.8346 - val_loss: 1.2006 - val_accuracy: 0.7793\n",
            "Epoch 74/100\n",
            "19/19 - 5s - loss: 0.4502 - accuracy: 0.8351 - val_loss: 1.2246 - val_accuracy: 0.7800\n",
            "Epoch 75/100\n",
            "19/19 - 5s - loss: 0.4508 - accuracy: 0.8344 - val_loss: 1.2134 - val_accuracy: 0.7829\n",
            "Epoch 76/100\n",
            "19/19 - 5s - loss: 0.4513 - accuracy: 0.8339 - val_loss: 1.1956 - val_accuracy: 0.7843\n",
            "Epoch 77/100\n",
            "19/19 - 5s - loss: 0.4508 - accuracy: 0.8348 - val_loss: 1.1938 - val_accuracy: 0.7800\n",
            "Epoch 78/100\n",
            "19/19 - 5s - loss: 0.4501 - accuracy: 0.8346 - val_loss: 1.2429 - val_accuracy: 0.7814\n",
            "Epoch 79/100\n",
            "19/19 - 5s - loss: 0.4503 - accuracy: 0.8348 - val_loss: 1.2466 - val_accuracy: 0.7814\n",
            "Epoch 80/100\n",
            "19/19 - 5s - loss: 0.4506 - accuracy: 0.8350 - val_loss: 1.2531 - val_accuracy: 0.7814\n",
            "Epoch 81/100\n",
            "19/19 - 5s - loss: 0.4497 - accuracy: 0.8346 - val_loss: 1.2355 - val_accuracy: 0.7786\n",
            "Epoch 82/100\n",
            "19/19 - 5s - loss: 0.4505 - accuracy: 0.8346 - val_loss: 1.2643 - val_accuracy: 0.7800\n",
            "Epoch 83/100\n",
            "19/19 - 5s - loss: 0.4515 - accuracy: 0.8346 - val_loss: 1.2206 - val_accuracy: 0.7786\n",
            "Epoch 84/100\n",
            "19/19 - 5s - loss: 0.4521 - accuracy: 0.8343 - val_loss: 1.2293 - val_accuracy: 0.7786\n",
            "Epoch 85/100\n",
            "19/19 - 5s - loss: 0.4503 - accuracy: 0.8343 - val_loss: 1.2103 - val_accuracy: 0.7800\n",
            "Epoch 86/100\n",
            "19/19 - 5s - loss: 0.4498 - accuracy: 0.8348 - val_loss: 1.2194 - val_accuracy: 0.7800\n",
            "Epoch 87/100\n",
            "19/19 - 5s - loss: 0.4498 - accuracy: 0.8346 - val_loss: 1.2387 - val_accuracy: 0.7829\n",
            "Epoch 88/100\n",
            "19/19 - 5s - loss: 0.4504 - accuracy: 0.8341 - val_loss: 1.2267 - val_accuracy: 0.7829\n",
            "Epoch 89/100\n",
            "19/19 - 5s - loss: 0.4493 - accuracy: 0.8351 - val_loss: 1.2451 - val_accuracy: 0.7814\n",
            "Epoch 90/100\n",
            "19/19 - 5s - loss: 0.4514 - accuracy: 0.8348 - val_loss: 1.2353 - val_accuracy: 0.7800\n",
            "Epoch 91/100\n",
            "19/19 - 5s - loss: 0.4524 - accuracy: 0.8348 - val_loss: 1.2316 - val_accuracy: 0.7807\n",
            "Epoch 92/100\n",
            "19/19 - 5s - loss: 0.4526 - accuracy: 0.8341 - val_loss: 1.2681 - val_accuracy: 0.7814\n",
            "Epoch 93/100\n",
            "19/19 - 5s - loss: 0.4519 - accuracy: 0.8344 - val_loss: 1.2423 - val_accuracy: 0.7800\n",
            "Epoch 94/100\n",
            "19/19 - 5s - loss: 0.4505 - accuracy: 0.8351 - val_loss: 1.2374 - val_accuracy: 0.7843\n",
            "Epoch 95/100\n",
            "19/19 - 5s - loss: 0.4511 - accuracy: 0.8343 - val_loss: 1.2490 - val_accuracy: 0.7822\n",
            "Epoch 96/100\n",
            "19/19 - 5s - loss: 0.4503 - accuracy: 0.8346 - val_loss: 1.1944 - val_accuracy: 0.7829\n",
            "Epoch 97/100\n",
            "19/19 - 5s - loss: 0.4532 - accuracy: 0.8339 - val_loss: 1.1893 - val_accuracy: 0.7843\n",
            "Epoch 98/100\n",
            "19/19 - 5s - loss: 0.4517 - accuracy: 0.8343 - val_loss: 1.2069 - val_accuracy: 0.7814\n",
            "Epoch 99/100\n",
            "19/19 - 5s - loss: 0.4518 - accuracy: 0.8343 - val_loss: 1.2181 - val_accuracy: 0.7814\n",
            "Epoch 100/100\n",
            "19/19 - 5s - loss: 0.4510 - accuracy: 0.8337 - val_loss: 1.1948 - val_accuracy: 0.7807\n"
          ]
        },
        {
          "output_type": "execute_result",
          "data": {
            "text/plain": [
              "<keras.callbacks.History at 0x7f7d4de9dcd0>"
            ]
          },
          "metadata": {},
          "execution_count": 27
        }
      ]
    },
    {
      "cell_type": "markdown",
      "metadata": {
        "id": "lio7Q8Q0CBr_"
      },
      "source": [
        "# Create confusion matrix and predict accuracy for CNN"
      ]
    },
    {
      "cell_type": "code",
      "metadata": {
        "colab": {
          "base_uri": "https://localhost:8080/"
        },
        "id": "DXLwIRTRqGOi",
        "outputId": "41b424b1-e9ab-40db-eddb-2ae2f6f367da"
      },
      "source": [
        "pred = model.predict(X_test)\n",
        "pred = np.argmax(pred, axis=1)\n",
        "y_tmp = np.argmax(y_test, axis=1)\n",
        "cnnAc = accuracy_score(y_tmp, pred)\n",
        "cnf = confusion_matrix(y_tmp, pred)\n",
        "\n",
        "print('CNN:', cnnAc)\n",
        "print(cnf)"
      ],
      "execution_count": null,
      "outputs": [
        {
          "output_type": "stream",
          "name": "stdout",
          "text": [
            "CNN: 0.780744905130007\n",
            "[[127   0   0   0   2  45]\n",
            " [ 10 242   0   2   3  23]\n",
            " [  0   0  82   0   0  59]\n",
            " [  2   0   0  44   4  73]\n",
            " [  4   1   0   9 165  56]\n",
            " [  6   0   0   9   4 451]]\n"
          ]
        }
      ]
    },
    {
      "cell_type": "markdown",
      "metadata": {
        "id": "iPW2wv9wCRTB"
      },
      "source": [
        "# Build the RNN+CNN model"
      ]
    },
    {
      "cell_type": "code",
      "metadata": {
        "colab": {
          "base_uri": "https://localhost:8080/"
        },
        "id": "U5wXwd6DqGOj",
        "outputId": "74b56f22-ad4d-4270-f81c-2fface494aaf"
      },
      "source": [
        "inp = Input(shape=(n_input, ))\n",
        "x = Embedding(max_feautres, emmbed_size, input_length=n_input)(inp)\n",
        "for _ in range(1):\n",
        "    x = LSTM(50, return_sequences=True)(x)\n",
        "    x = Dropout(0.2)(x)\n",
        "x = Conv1D(32, 5, strides=1)(x)\n",
        "x = MaxPooling1D(pool_size=3)(x)\n",
        "x = Dropout(0.2)(x)\n",
        "x = Flatten()(x)\n",
        "x = Dense(64, activation='relu')(x)\n",
        "x = Dropout(0.2)(x)\n",
        "x = Dense(6, activation='softmax')(x)\n",
        "\n",
        "model = Model(inputs=inp, outputs=x)\n",
        "model.summary()"
      ],
      "execution_count": null,
      "outputs": [
        {
          "output_type": "stream",
          "name": "stdout",
          "text": [
            "Model: \"model_2\"\n",
            "_________________________________________________________________\n",
            "Layer (type)                 Output Shape              Param #   \n",
            "=================================================================\n",
            "input_3 (InputLayer)         [(None, 200)]             0         \n",
            "_________________________________________________________________\n",
            "embedding_2 (Embedding)      (None, 200, 64)           640000    \n",
            "_________________________________________________________________\n",
            "lstm_2 (LSTM)                (None, 200, 50)           23000     \n",
            "_________________________________________________________________\n",
            "dropout_6 (Dropout)          (None, 200, 50)           0         \n",
            "_________________________________________________________________\n",
            "conv1d_2 (Conv1D)            (None, 196, 32)           8032      \n",
            "_________________________________________________________________\n",
            "max_pooling1d_2 (MaxPooling1 (None, 65, 32)            0         \n",
            "_________________________________________________________________\n",
            "dropout_7 (Dropout)          (None, 65, 32)            0         \n",
            "_________________________________________________________________\n",
            "flatten_2 (Flatten)          (None, 2080)              0         \n",
            "_________________________________________________________________\n",
            "dense_4 (Dense)              (None, 64)                133184    \n",
            "_________________________________________________________________\n",
            "dropout_8 (Dropout)          (None, 64)                0         \n",
            "_________________________________________________________________\n",
            "dense_5 (Dense)              (None, 6)                 390       \n",
            "=================================================================\n",
            "Total params: 804,606\n",
            "Trainable params: 804,606\n",
            "Non-trainable params: 0\n",
            "_________________________________________________________________\n"
          ]
        }
      ]
    },
    {
      "cell_type": "code",
      "metadata": {
        "colab": {
          "base_uri": "https://localhost:8080/"
        },
        "id": "J93eejfnqGOj",
        "outputId": "ef2d864b-aa9a-4721-b7d6-2e96dc280cee"
      },
      "source": [
        "model.compile(loss=losses.categorical_crossentropy, optimizer='adam', metrics=['accuracy'])\n",
        "\n",
        "model.fit(X_train, y_train, epochs = 30, batch_size=batch_size, validation_data=(X_test, y_test), verbose=2, shuffle=True)"
      ],
      "execution_count": null,
      "outputs": [
        {
          "output_type": "stream",
          "name": "stdout",
          "text": [
            "Epoch 1/30\n",
            "19/19 - 16s - loss: 1.6047 - accuracy: 0.3946 - val_loss: 1.4220 - val_accuracy: 0.4483\n",
            "Epoch 2/30\n",
            "19/19 - 13s - loss: 1.3355 - accuracy: 0.4898 - val_loss: 1.2385 - val_accuracy: 0.5777\n",
            "Epoch 3/30\n",
            "19/19 - 13s - loss: 1.1139 - accuracy: 0.6014 - val_loss: 0.9915 - val_accuracy: 0.6275\n",
            "Epoch 4/30\n",
            "19/19 - 13s - loss: 0.8853 - accuracy: 0.6749 - val_loss: 0.8639 - val_accuracy: 0.6894\n",
            "Epoch 5/30\n",
            "19/19 - 13s - loss: 0.7551 - accuracy: 0.7107 - val_loss: 0.7923 - val_accuracy: 0.7119\n",
            "Epoch 6/30\n",
            "19/19 - 13s - loss: 0.6193 - accuracy: 0.7596 - val_loss: 0.7315 - val_accuracy: 0.7660\n",
            "Epoch 7/30\n",
            "19/19 - 13s - loss: 0.5238 - accuracy: 0.8090 - val_loss: 0.6241 - val_accuracy: 0.8117\n",
            "Epoch 8/30\n",
            "19/19 - 13s - loss: 0.4022 - accuracy: 0.8555 - val_loss: 0.5835 - val_accuracy: 0.8482\n",
            "Epoch 9/30\n",
            "19/19 - 13s - loss: 0.3170 - accuracy: 0.8965 - val_loss: 0.5696 - val_accuracy: 0.8580\n",
            "Epoch 10/30\n",
            "19/19 - 13s - loss: 0.2561 - accuracy: 0.9123 - val_loss: 0.5631 - val_accuracy: 0.8763\n",
            "Epoch 11/30\n",
            "19/19 - 13s - loss: 0.2157 - accuracy: 0.9288 - val_loss: 0.6193 - val_accuracy: 0.8721\n",
            "Epoch 12/30\n",
            "19/19 - 13s - loss: 0.1868 - accuracy: 0.9432 - val_loss: 0.5658 - val_accuracy: 0.8932\n",
            "Epoch 13/30\n",
            "19/19 - 13s - loss: 0.1601 - accuracy: 0.9513 - val_loss: 0.5784 - val_accuracy: 0.8974\n",
            "Epoch 14/30\n",
            "19/19 - 13s - loss: 0.1358 - accuracy: 0.9603 - val_loss: 0.6223 - val_accuracy: 0.8974\n",
            "Epoch 15/30\n",
            "19/19 - 13s - loss: 0.1314 - accuracy: 0.9613 - val_loss: 0.6613 - val_accuracy: 0.8981\n",
            "Epoch 16/30\n",
            "19/19 - 13s - loss: 0.1161 - accuracy: 0.9671 - val_loss: 0.6280 - val_accuracy: 0.9023\n",
            "Epoch 17/30\n",
            "19/19 - 13s - loss: 0.1176 - accuracy: 0.9668 - val_loss: 0.6565 - val_accuracy: 0.9072\n",
            "Epoch 18/30\n",
            "19/19 - 13s - loss: 0.1113 - accuracy: 0.9687 - val_loss: 0.6783 - val_accuracy: 0.9065\n",
            "Epoch 19/30\n",
            "19/19 - 13s - loss: 0.0995 - accuracy: 0.9731 - val_loss: 0.6034 - val_accuracy: 0.9164\n",
            "Epoch 20/30\n",
            "19/19 - 13s - loss: 0.0917 - accuracy: 0.9743 - val_loss: 0.6577 - val_accuracy: 0.9178\n",
            "Epoch 21/30\n",
            "19/19 - 13s - loss: 0.0815 - accuracy: 0.9770 - val_loss: 0.7171 - val_accuracy: 0.9150\n",
            "Epoch 22/30\n",
            "19/19 - 13s - loss: 0.0782 - accuracy: 0.9775 - val_loss: 0.6823 - val_accuracy: 0.9185\n",
            "Epoch 23/30\n",
            "19/19 - 13s - loss: 0.0781 - accuracy: 0.9763 - val_loss: 0.6980 - val_accuracy: 0.9185\n",
            "Epoch 24/30\n",
            "19/19 - 13s - loss: 0.0726 - accuracy: 0.9793 - val_loss: 0.7350 - val_accuracy: 0.9171\n",
            "Epoch 25/30\n",
            "19/19 - 13s - loss: 0.0715 - accuracy: 0.9810 - val_loss: 0.7962 - val_accuracy: 0.9129\n",
            "Epoch 26/30\n",
            "19/19 - 13s - loss: 0.0750 - accuracy: 0.9805 - val_loss: 0.7232 - val_accuracy: 0.9150\n",
            "Epoch 27/30\n",
            "19/19 - 13s - loss: 0.0768 - accuracy: 0.9773 - val_loss: 0.6760 - val_accuracy: 0.9164\n",
            "Epoch 28/30\n",
            "19/19 - 13s - loss: 0.0748 - accuracy: 0.9789 - val_loss: 0.6861 - val_accuracy: 0.9192\n",
            "Epoch 29/30\n",
            "19/19 - 13s - loss: 0.0672 - accuracy: 0.9803 - val_loss: 0.7287 - val_accuracy: 0.9122\n",
            "Epoch 30/30\n",
            "19/19 - 13s - loss: 0.0650 - accuracy: 0.9808 - val_loss: 0.7096 - val_accuracy: 0.9164\n"
          ]
        },
        {
          "output_type": "execute_result",
          "data": {
            "text/plain": [
              "<keras.callbacks.History at 0x7f7d4dab7790>"
            ]
          },
          "metadata": {},
          "execution_count": 30
        }
      ]
    },
    {
      "cell_type": "code",
      "metadata": {
        "colab": {
          "base_uri": "https://localhost:8080/"
        },
        "id": "bXKx-CxhqGOj",
        "outputId": "79b788e6-d429-4c43-bc0a-9931415a47c0"
      },
      "source": [
        "pred = model.predict(X_test)\n",
        "pred = np.argmax(pred, axis=1)\n",
        "y_tmp = np.argmax(y_test, axis=1)\n",
        "rnnCnnAc = accuracy_score(y_tmp, pred)\n",
        "cnf = confusion_matrix(y_tmp, pred)\n",
        "\n",
        "print('RNN+CNN:', rnnCnnAc)\n",
        "print(cnf)"
      ],
      "execution_count": null,
      "outputs": [
        {
          "output_type": "stream",
          "name": "stdout",
          "text": [
            "RNN+CNN: 0.9163738580463809\n",
            "[[159   0   2   0   4   9]\n",
            " [  1 261   1   2   5  10]\n",
            " [  0   0 133   0   0   8]\n",
            " [  0   3   6 104   0  10]\n",
            " [ 15   7   1   2 202   8]\n",
            " [ 14   0   7   2   2 445]]\n"
          ]
        }
      ]
    },
    {
      "cell_type": "markdown",
      "metadata": {
        "id": "fsGLgK54EoTU"
      },
      "source": [
        "# Accuracy Comparision"
      ]
    },
    {
      "cell_type": "code",
      "metadata": {
        "colab": {
          "base_uri": "https://localhost:8080/",
          "height": 297
        },
        "id": "qt1BCx7gqGOk",
        "outputId": "389c4fba-3525-4e00-84f3-9244c1a702d2"
      },
      "source": [
        "xd = [rnnAc*100, cnnAc*100, rnnCnnAc*100]\n",
        "for accuracty in accuracyDF:\n",
        "  xd.append(accuracty*100)\n",
        "\n",
        "plt.xlim(0, 28)\n",
        "plt.ylim(0, 100)\n",
        "plt.ylabel('Accuracy')\n",
        "yd = [2, 6, 10, 14, 18, 22, 26]\n",
        "plt.bar(yd, xd, 1, tick_label=['RNN', 'CNN', 'RNN+CNN', 'RFC', 'LSVC', 'MNB', 'LR'], color=['c', 'g'])\n",
        "\n",
        "for index, data in enumerate(xd):\n",
        "    plt.text(x=4*index , y =data+1 , s=f\"{round(data, 2)}\" , fontdict=dict(fontsize=20))\n",
        "plt.tight_layout()\n",
        "\n",
        "plt.show()"
      ],
      "execution_count": null,
      "outputs": [
        {
          "output_type": "display_data",
          "data": {
            "image/png": "[encoded data removed]",
            "text/plain": [
              "<Figure size 432x288 with 1 Axes>"
            ]
          },
          "metadata": {
            "needs_background": "light"
          }
        }
      ]
    },
    {
      "cell_type": "code",
      "metadata": {
        "id": "eEx8T3BgULZf"
      },
      "source": [
        ""
      ],
      "execution_count": null,
      "outputs": []
    }
  ]
}